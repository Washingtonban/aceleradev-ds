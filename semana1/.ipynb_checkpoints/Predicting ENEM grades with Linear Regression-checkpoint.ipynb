{
 "cells": [
  {
   "cell_type": "markdown",
   "metadata": {},
   "source": [
    "## Predicting ENEM grades with Linear Regression"
   ]
  },
  {
   "cell_type": "code",
   "execution_count": 1,
   "metadata": {},
   "outputs": [],
   "source": [
    "import pandas as pd\n",
    "import numpy as np\n",
    "import matplotlib.pyplot as plt\n",
    "import seaborn as sns\n",
    "from sklearn import linear_model\n",
    "import warnings\n",
    "\n",
    "%matplotlib inline"
   ]
  },
  {
   "cell_type": "code",
   "execution_count": 2,
   "metadata": {},
   "outputs": [],
   "source": [
    "df_train = pd.read_csv('train.csv')\n",
    "df_test = pd.read_csv('test.csv')"
   ]
  },
  {
   "cell_type": "markdown",
   "metadata": {},
   "source": [
    "#### Exploratory data analysis"
   ]
  },
  {
   "cell_type": "code",
   "execution_count": 5,
   "metadata": {
    "scrolled": true
   },
   "outputs": [
    {
     "data": {
      "text/html": [
       "<div>\n",
       "<style scoped>\n",
       "    .dataframe tbody tr th:only-of-type {\n",
       "        vertical-align: middle;\n",
       "    }\n",
       "\n",
       "    .dataframe tbody tr th {\n",
       "        vertical-align: top;\n",
       "    }\n",
       "\n",
       "    .dataframe thead th {\n",
       "        text-align: right;\n",
       "    }\n",
       "</style>\n",
       "<table border=\"1\" class=\"dataframe\">\n",
       "  <thead>\n",
       "    <tr style=\"text-align: right;\">\n",
       "      <th></th>\n",
       "      <th>Unnamed: 0</th>\n",
       "      <th>NU_INSCRICAO</th>\n",
       "      <th>NU_ANO</th>\n",
       "      <th>CO_MUNICIPIO_RESIDENCIA</th>\n",
       "      <th>NO_MUNICIPIO_RESIDENCIA</th>\n",
       "      <th>CO_UF_RESIDENCIA</th>\n",
       "      <th>SG_UF_RESIDENCIA</th>\n",
       "      <th>NU_IDADE</th>\n",
       "      <th>TP_SEXO</th>\n",
       "      <th>TP_ESTADO_CIVIL</th>\n",
       "      <th>...</th>\n",
       "      <th>Q041</th>\n",
       "      <th>Q042</th>\n",
       "      <th>Q043</th>\n",
       "      <th>Q044</th>\n",
       "      <th>Q045</th>\n",
       "      <th>Q046</th>\n",
       "      <th>Q047</th>\n",
       "      <th>Q048</th>\n",
       "      <th>Q049</th>\n",
       "      <th>Q050</th>\n",
       "    </tr>\n",
       "  </thead>\n",
       "  <tbody>\n",
       "    <tr>\n",
       "      <td>0</td>\n",
       "      <td>1</td>\n",
       "      <td>ed50e8aaa58e7a806c337585efee9ca41f1eb1ad</td>\n",
       "      <td>2016</td>\n",
       "      <td>4314902</td>\n",
       "      <td>Porto Alegre</td>\n",
       "      <td>43</td>\n",
       "      <td>RS</td>\n",
       "      <td>24</td>\n",
       "      <td>M</td>\n",
       "      <td>0.0</td>\n",
       "      <td>...</td>\n",
       "      <td>5.0</td>\n",
       "      <td>A</td>\n",
       "      <td>A</td>\n",
       "      <td>A</td>\n",
       "      <td>A</td>\n",
       "      <td>A</td>\n",
       "      <td>A</td>\n",
       "      <td>A</td>\n",
       "      <td>B</td>\n",
       "      <td>D</td>\n",
       "    </tr>\n",
       "    <tr>\n",
       "      <td>1</td>\n",
       "      <td>2</td>\n",
       "      <td>2c3acac4b33ec2b195d77e7c04a2d75727fad723</td>\n",
       "      <td>2016</td>\n",
       "      <td>2304707</td>\n",
       "      <td>Granja</td>\n",
       "      <td>23</td>\n",
       "      <td>CE</td>\n",
       "      <td>17</td>\n",
       "      <td>F</td>\n",
       "      <td>0.0</td>\n",
       "      <td>...</td>\n",
       "      <td>NaN</td>\n",
       "      <td>A</td>\n",
       "      <td>A</td>\n",
       "      <td>C</td>\n",
       "      <td>A</td>\n",
       "      <td>B</td>\n",
       "      <td>A</td>\n",
       "      <td>A</td>\n",
       "      <td>C</td>\n",
       "      <td>A</td>\n",
       "    </tr>\n",
       "    <tr>\n",
       "      <td>2</td>\n",
       "      <td>3</td>\n",
       "      <td>f4545f8ccb9ff5c8aad7d32951b3f251a26e6568</td>\n",
       "      <td>2016</td>\n",
       "      <td>2304400</td>\n",
       "      <td>Fortaleza</td>\n",
       "      <td>23</td>\n",
       "      <td>CE</td>\n",
       "      <td>21</td>\n",
       "      <td>F</td>\n",
       "      <td>0.0</td>\n",
       "      <td>...</td>\n",
       "      <td>NaN</td>\n",
       "      <td>A</td>\n",
       "      <td>A</td>\n",
       "      <td>A</td>\n",
       "      <td>A</td>\n",
       "      <td>C</td>\n",
       "      <td>A</td>\n",
       "      <td>A</td>\n",
       "      <td>B</td>\n",
       "      <td>A</td>\n",
       "    </tr>\n",
       "    <tr>\n",
       "      <td>3</td>\n",
       "      <td>4</td>\n",
       "      <td>3d6ec248fef899c414e77f82d5c6d2bffbeaf7fe</td>\n",
       "      <td>2016</td>\n",
       "      <td>3304557</td>\n",
       "      <td>Rio de Janeiro</td>\n",
       "      <td>33</td>\n",
       "      <td>RJ</td>\n",
       "      <td>25</td>\n",
       "      <td>F</td>\n",
       "      <td>0.0</td>\n",
       "      <td>...</td>\n",
       "      <td>5.0</td>\n",
       "      <td>C</td>\n",
       "      <td>A</td>\n",
       "      <td>A</td>\n",
       "      <td>A</td>\n",
       "      <td>A</td>\n",
       "      <td>D</td>\n",
       "      <td>A</td>\n",
       "      <td>A</td>\n",
       "      <td>A</td>\n",
       "    </tr>\n",
       "    <tr>\n",
       "      <td>4</td>\n",
       "      <td>5</td>\n",
       "      <td>bf896ac8d3ecadd6dba1dfbf50110afcbf5d3268</td>\n",
       "      <td>2016</td>\n",
       "      <td>1302603</td>\n",
       "      <td>Manaus</td>\n",
       "      <td>13</td>\n",
       "      <td>AM</td>\n",
       "      <td>28</td>\n",
       "      <td>M</td>\n",
       "      <td>0.0</td>\n",
       "      <td>...</td>\n",
       "      <td>NaN</td>\n",
       "      <td>A</td>\n",
       "      <td>A</td>\n",
       "      <td>A</td>\n",
       "      <td>A</td>\n",
       "      <td>A</td>\n",
       "      <td>A</td>\n",
       "      <td>A</td>\n",
       "      <td>A</td>\n",
       "      <td>A</td>\n",
       "    </tr>\n",
       "  </tbody>\n",
       "</table>\n",
       "<p>5 rows × 167 columns</p>\n",
       "</div>"
      ],
      "text/plain": [
       "   Unnamed: 0                              NU_INSCRICAO  NU_ANO  \\\n",
       "0           1  ed50e8aaa58e7a806c337585efee9ca41f1eb1ad    2016   \n",
       "1           2  2c3acac4b33ec2b195d77e7c04a2d75727fad723    2016   \n",
       "2           3  f4545f8ccb9ff5c8aad7d32951b3f251a26e6568    2016   \n",
       "3           4  3d6ec248fef899c414e77f82d5c6d2bffbeaf7fe    2016   \n",
       "4           5  bf896ac8d3ecadd6dba1dfbf50110afcbf5d3268    2016   \n",
       "\n",
       "   CO_MUNICIPIO_RESIDENCIA NO_MUNICIPIO_RESIDENCIA  CO_UF_RESIDENCIA  \\\n",
       "0                  4314902            Porto Alegre                43   \n",
       "1                  2304707                  Granja                23   \n",
       "2                  2304400               Fortaleza                23   \n",
       "3                  3304557          Rio de Janeiro                33   \n",
       "4                  1302603                  Manaus                13   \n",
       "\n",
       "  SG_UF_RESIDENCIA  NU_IDADE TP_SEXO  TP_ESTADO_CIVIL  ...  Q041  Q042  Q043  \\\n",
       "0               RS        24       M              0.0  ...   5.0     A     A   \n",
       "1               CE        17       F              0.0  ...   NaN     A     A   \n",
       "2               CE        21       F              0.0  ...   NaN     A     A   \n",
       "3               RJ        25       F              0.0  ...   5.0     C     A   \n",
       "4               AM        28       M              0.0  ...   NaN     A     A   \n",
       "\n",
       "  Q044  Q045 Q046  Q047  Q048  Q049  Q050  \n",
       "0    A     A    A     A     A     B     D  \n",
       "1    C     A    B     A     A     C     A  \n",
       "2    A     A    C     A     A     B     A  \n",
       "3    A     A    A     D     A     A     A  \n",
       "4    A     A    A     A     A     A     A  \n",
       "\n",
       "[5 rows x 167 columns]"
      ]
     },
     "execution_count": 5,
     "metadata": {},
     "output_type": "execute_result"
    }
   ],
   "source": [
    "#General view of dataframe\n",
    "df_train.head()"
   ]
  },
  {
   "cell_type": "code",
   "execution_count": 7,
   "metadata": {},
   "outputs": [
    {
     "data": {
      "text/plain": [
       "Unnamed: 0                 1297\n",
       "NU_INSCRICAO               1297\n",
       "NU_ANO                     1297\n",
       "CO_MUNICIPIO_RESIDENCIA    1297\n",
       "NO_MUNICIPIO_RESIDENCIA    1297\n",
       "                           ... \n",
       "Q046                       1297\n",
       "Q047                       1297\n",
       "Q048                       1297\n",
       "Q049                       1297\n",
       "Q050                       1297\n",
       "Length: 167, dtype: int64"
      ]
     },
     "execution_count": 7,
     "metadata": {},
     "output_type": "execute_result"
    }
   ],
   "source": [
    "x= df_train[df_train['NU_NOTA_MT']>600].count()"
   ]
  },
  {
   "cell_type": "code",
   "execution_count": 4,
   "metadata": {},
   "outputs": [
    {
     "data": {
      "image/png": "[encoded data removed]",
      "text/plain": [
       "<Figure size 2016x288 with 5 Axes>"
      ]
     },
     "metadata": {
      "needs_background": "light"
     },
     "output_type": "display_data"
    }
   ],
   "source": [
    "#Ploting the distribution of grades in each knowledge area\n",
    "warnings.filterwarnings(\"ignore\") #ignore the NaN warning\n",
    "\n",
    "fig, axes = plt.subplots(1, 5, figsize=(28, 4))\n",
    "sns.kdeplot(df_train['NU_NOTA_LC'], ax = axes[0], shade=True, color='r')\n",
    "sns.kdeplot(df_train['NU_NOTA_CH'], ax = axes[1], shade=True, color='rebeccapurple')\n",
    "sns.kdeplot(df_train['NU_NOTA_CN'], ax = axes[2], shade=True, color='g')\n",
    "sns.kdeplot(df_train['NU_NOTA_MT'], ax = axes[3], shade=True)\n",
    "sns.kdeplot(df_train['NU_NOTA_REDACAO'], ax = axes[4], shade=True, color='grey')\n",
    "axes[0].set_title('LINGUAGENS')\n",
    "axes[1].set_title('HUMANAS')\n",
    "axes[2].set_title('NATUREZA')\n",
    "axes[3].set_title('MATEMATICA')\n",
    "axes[4].set_title('REDACAO')\n",
    "plt.show()"
   ]
  },
  {
   "cell_type": "code",
   "execution_count": 5,
   "metadata": {},
   "outputs": [
    {
     "data": {
      "text/html": [
       "<div>\n",
       "<style scoped>\n",
       "    .dataframe tbody tr th:only-of-type {\n",
       "        vertical-align: middle;\n",
       "    }\n",
       "\n",
       "    .dataframe tbody tr th {\n",
       "        vertical-align: top;\n",
       "    }\n",
       "\n",
       "    .dataframe thead th {\n",
       "        text-align: right;\n",
       "    }\n",
       "</style>\n",
       "<table border=\"1\" class=\"dataframe\">\n",
       "  <thead>\n",
       "    <tr style=\"text-align: right;\">\n",
       "      <th></th>\n",
       "      <th>TP_DEPENDENCIA_ADM_ESC</th>\n",
       "      <th>NU_NOTA_LC</th>\n",
       "      <th>NU_NOTA_CH</th>\n",
       "      <th>NU_NOTA_CN</th>\n",
       "      <th>NU_NOTA_MT</th>\n",
       "      <th>NU_NOTA_REDACAO</th>\n",
       "    </tr>\n",
       "  </thead>\n",
       "  <tbody>\n",
       "    <tr>\n",
       "      <td>TP_DEPENDENCIA_ADM_ESC</td>\n",
       "      <td>1.000000</td>\n",
       "      <td>0.299387</td>\n",
       "      <td>0.338486</td>\n",
       "      <td>0.393774</td>\n",
       "      <td>0.373233</td>\n",
       "      <td>0.297040</td>\n",
       "    </tr>\n",
       "    <tr>\n",
       "      <td>NU_NOTA_LC</td>\n",
       "      <td>0.299387</td>\n",
       "      <td>1.000000</td>\n",
       "      <td>0.692988</td>\n",
       "      <td>0.545667</td>\n",
       "      <td>0.494695</td>\n",
       "      <td>0.512908</td>\n",
       "    </tr>\n",
       "    <tr>\n",
       "      <td>NU_NOTA_CH</td>\n",
       "      <td>0.338486</td>\n",
       "      <td>0.692988</td>\n",
       "      <td>1.000000</td>\n",
       "      <td>0.609543</td>\n",
       "      <td>0.529594</td>\n",
       "      <td>0.550582</td>\n",
       "    </tr>\n",
       "    <tr>\n",
       "      <td>NU_NOTA_CN</td>\n",
       "      <td>0.393774</td>\n",
       "      <td>0.545667</td>\n",
       "      <td>0.609543</td>\n",
       "      <td>1.000000</td>\n",
       "      <td>0.584941</td>\n",
       "      <td>0.459938</td>\n",
       "    </tr>\n",
       "    <tr>\n",
       "      <td>NU_NOTA_MT</td>\n",
       "      <td>0.373233</td>\n",
       "      <td>0.494695</td>\n",
       "      <td>0.529594</td>\n",
       "      <td>0.584941</td>\n",
       "      <td>1.000000</td>\n",
       "      <td>0.379376</td>\n",
       "    </tr>\n",
       "    <tr>\n",
       "      <td>NU_NOTA_REDACAO</td>\n",
       "      <td>0.297040</td>\n",
       "      <td>0.512908</td>\n",
       "      <td>0.550582</td>\n",
       "      <td>0.459938</td>\n",
       "      <td>0.379376</td>\n",
       "      <td>1.000000</td>\n",
       "    </tr>\n",
       "  </tbody>\n",
       "</table>\n",
       "</div>"
      ],
      "text/plain": [
       "                        TP_DEPENDENCIA_ADM_ESC  NU_NOTA_LC  NU_NOTA_CH  \\\n",
       "TP_DEPENDENCIA_ADM_ESC                1.000000    0.299387    0.338486   \n",
       "NU_NOTA_LC                            0.299387    1.000000    0.692988   \n",
       "NU_NOTA_CH                            0.338486    0.692988    1.000000   \n",
       "NU_NOTA_CN                            0.393774    0.545667    0.609543   \n",
       "NU_NOTA_MT                            0.373233    0.494695    0.529594   \n",
       "NU_NOTA_REDACAO                       0.297040    0.512908    0.550582   \n",
       "\n",
       "                        NU_NOTA_CN  NU_NOTA_MT  NU_NOTA_REDACAO  \n",
       "TP_DEPENDENCIA_ADM_ESC    0.393774    0.373233         0.297040  \n",
       "NU_NOTA_LC                0.545667    0.494695         0.512908  \n",
       "NU_NOTA_CH                0.609543    0.529594         0.550582  \n",
       "NU_NOTA_CN                1.000000    0.584941         0.459938  \n",
       "NU_NOTA_MT                0.584941    1.000000         0.379376  \n",
       "NU_NOTA_REDACAO           0.459938    0.379376         1.000000  "
      ]
     },
     "execution_count": 5,
     "metadata": {},
     "output_type": "execute_result"
    }
   ],
   "source": [
    "#Correlation table\n",
    "df_train[['TP_DEPENDENCIA_ADM_ESC','NU_NOTA_LC', 'NU_NOTA_CH', 'NU_NOTA_CN', 'NU_NOTA_MT', 'NU_NOTA_REDACAO']].corr()"
   ]
  },
  {
   "cell_type": "markdown",
   "metadata": {},
   "source": [
    "#### Data processing"
   ]
  },
  {
   "cell_type": "code",
   "execution_count": 6,
   "metadata": {},
   "outputs": [],
   "source": [
    "#Subseting\n",
    "subset_train = df_train[['TP_DEPENDENCIA_ADM_ESC','NU_NOTA_LC', 'NU_NOTA_CH', 'NU_NOTA_CN', 'NU_NOTA_MT', 'NU_NOTA_REDACAO']]\n",
    "#Removing all NaN rows\n",
    "subset_train = subset_train.loc[(df_train['NU_NOTA_LC'].notnull()) & (df_train['NU_NOTA_CH'].notnull()) & (df_train['NU_NOTA_CN'].notnull()) & (df_train['NU_NOTA_MT'].notnull()) & (df_train['NU_NOTA_REDACAO'].notnull())]"
   ]
  },
  {
   "cell_type": "code",
   "execution_count": 7,
   "metadata": {},
   "outputs": [],
   "source": [
    "#Replacing NaN with zero\n",
    "subset_train['NU_NOTA_LC'].fillna(0, inplace=True)\n",
    "subset_train['NU_NOTA_CH'].fillna(0, inplace=True)\n",
    "subset_train['NU_NOTA_CN'].fillna(0, inplace=True)\n",
    "subset_train['NU_NOTA_MT'].fillna(0, inplace=True)\n",
    "subset_train['NU_NOTA_REDACAO'].fillna(0, inplace=True)\n",
    "subset_train['TP_DEPENDENCIA_ADM_ESC'].fillna(0, inplace=True)"
   ]
  },
  {
   "cell_type": "code",
   "execution_count": 8,
   "metadata": {},
   "outputs": [
    {
     "data": {
      "text/html": [
       "<div>\n",
       "<style scoped>\n",
       "    .dataframe tbody tr th:only-of-type {\n",
       "        vertical-align: middle;\n",
       "    }\n",
       "\n",
       "    .dataframe tbody tr th {\n",
       "        vertical-align: top;\n",
       "    }\n",
       "\n",
       "    .dataframe thead th {\n",
       "        text-align: right;\n",
       "    }\n",
       "</style>\n",
       "<table border=\"1\" class=\"dataframe\">\n",
       "  <thead>\n",
       "    <tr style=\"text-align: right;\">\n",
       "      <th></th>\n",
       "      <th>TP_DEPENDENCIA_ADM_ESC</th>\n",
       "      <th>NU_NOTA_LC</th>\n",
       "      <th>NU_NOTA_CH</th>\n",
       "      <th>NU_NOTA_CN</th>\n",
       "      <th>NU_NOTA_MT</th>\n",
       "      <th>NU_NOTA_REDACAO</th>\n",
       "    </tr>\n",
       "  </thead>\n",
       "  <tbody>\n",
       "    <tr>\n",
       "      <td>0</td>\n",
       "      <td>0.0</td>\n",
       "      <td>581.2</td>\n",
       "      <td>495.4</td>\n",
       "      <td>436.3</td>\n",
       "      <td>399.4</td>\n",
       "      <td>520.0</td>\n",
       "    </tr>\n",
       "    <tr>\n",
       "      <td>1</td>\n",
       "      <td>2.0</td>\n",
       "      <td>599.0</td>\n",
       "      <td>544.1</td>\n",
       "      <td>474.5</td>\n",
       "      <td>459.8</td>\n",
       "      <td>580.0</td>\n",
       "    </tr>\n",
       "    <tr>\n",
       "      <td>5</td>\n",
       "      <td>0.0</td>\n",
       "      <td>410.9</td>\n",
       "      <td>583.2</td>\n",
       "      <td>439.7</td>\n",
       "      <td>364.5</td>\n",
       "      <td>620.0</td>\n",
       "    </tr>\n",
       "    <tr>\n",
       "      <td>6</td>\n",
       "      <td>2.0</td>\n",
       "      <td>484.5</td>\n",
       "      <td>604.2</td>\n",
       "      <td>420.1</td>\n",
       "      <td>529.2</td>\n",
       "      <td>560.0</td>\n",
       "    </tr>\n",
       "    <tr>\n",
       "      <td>7</td>\n",
       "      <td>0.0</td>\n",
       "      <td>611.2</td>\n",
       "      <td>625.8</td>\n",
       "      <td>619.6</td>\n",
       "      <td>566.7</td>\n",
       "      <td>620.0</td>\n",
       "    </tr>\n",
       "    <tr>\n",
       "      <td>...</td>\n",
       "      <td>...</td>\n",
       "      <td>...</td>\n",
       "      <td>...</td>\n",
       "      <td>...</td>\n",
       "      <td>...</td>\n",
       "      <td>...</td>\n",
       "    </tr>\n",
       "    <tr>\n",
       "      <td>13725</td>\n",
       "      <td>0.0</td>\n",
       "      <td>394.5</td>\n",
       "      <td>419.7</td>\n",
       "      <td>438.2</td>\n",
       "      <td>403.2</td>\n",
       "      <td>440.0</td>\n",
       "    </tr>\n",
       "    <tr>\n",
       "      <td>13726</td>\n",
       "      <td>0.0</td>\n",
       "      <td>533.0</td>\n",
       "      <td>557.9</td>\n",
       "      <td>423.8</td>\n",
       "      <td>452.4</td>\n",
       "      <td>560.0</td>\n",
       "    </tr>\n",
       "    <tr>\n",
       "      <td>13727</td>\n",
       "      <td>0.0</td>\n",
       "      <td>569.3</td>\n",
       "      <td>528.9</td>\n",
       "      <td>460.5</td>\n",
       "      <td>398.0</td>\n",
       "      <td>600.0</td>\n",
       "    </tr>\n",
       "    <tr>\n",
       "      <td>13728</td>\n",
       "      <td>0.0</td>\n",
       "      <td>569.0</td>\n",
       "      <td>621.7</td>\n",
       "      <td>422.5</td>\n",
       "      <td>386.6</td>\n",
       "      <td>460.0</td>\n",
       "    </tr>\n",
       "    <tr>\n",
       "      <td>13729</td>\n",
       "      <td>2.0</td>\n",
       "      <td>565.9</td>\n",
       "      <td>575.3</td>\n",
       "      <td>488.7</td>\n",
       "      <td>428.9</td>\n",
       "      <td>520.0</td>\n",
       "    </tr>\n",
       "  </tbody>\n",
       "</table>\n",
       "<p>10097 rows × 6 columns</p>\n",
       "</div>"
      ],
      "text/plain": [
       "       TP_DEPENDENCIA_ADM_ESC  NU_NOTA_LC  NU_NOTA_CH  NU_NOTA_CN  NU_NOTA_MT  \\\n",
       "0                         0.0       581.2       495.4       436.3       399.4   \n",
       "1                         2.0       599.0       544.1       474.5       459.8   \n",
       "5                         0.0       410.9       583.2       439.7       364.5   \n",
       "6                         2.0       484.5       604.2       420.1       529.2   \n",
       "7                         0.0       611.2       625.8       619.6       566.7   \n",
       "...                       ...         ...         ...         ...         ...   \n",
       "13725                     0.0       394.5       419.7       438.2       403.2   \n",
       "13726                     0.0       533.0       557.9       423.8       452.4   \n",
       "13727                     0.0       569.3       528.9       460.5       398.0   \n",
       "13728                     0.0       569.0       621.7       422.5       386.6   \n",
       "13729                     2.0       565.9       575.3       488.7       428.9   \n",
       "\n",
       "       NU_NOTA_REDACAO  \n",
       "0                520.0  \n",
       "1                580.0  \n",
       "5                620.0  \n",
       "6                560.0  \n",
       "7                620.0  \n",
       "...                ...  \n",
       "13725            440.0  \n",
       "13726            560.0  \n",
       "13727            600.0  \n",
       "13728            460.0  \n",
       "13729            520.0  \n",
       "\n",
       "[10097 rows x 6 columns]"
      ]
     },
     "execution_count": 8,
     "metadata": {},
     "output_type": "execute_result"
    }
   ],
   "source": [
    "subset_train"
   ]
  },
  {
   "cell_type": "markdown",
   "metadata": {},
   "source": [
    "#### Linear Regression"
   ]
  },
  {
   "cell_type": "code",
   "execution_count": 9,
   "metadata": {},
   "outputs": [],
   "source": [
    "reg = linear_model.LinearRegression()\n",
    "features = ['TP_DEPENDENCIA_ADM_ESC','NU_NOTA_LC', 'NU_NOTA_CH', 'NU_NOTA_CN', 'NU_NOTA_REDACAO']\n",
    "x_train = subset_train[features]"
   ]
  },
  {
   "cell_type": "code",
   "execution_count": 10,
   "metadata": {},
   "outputs": [
    {
     "data": {
      "text/plain": [
       "LinearRegression(copy_X=True, fit_intercept=True, n_jobs=None, normalize=False)"
      ]
     },
     "execution_count": 10,
     "metadata": {},
     "output_type": "execute_result"
    }
   ],
   "source": [
    "reg.fit(x_train, subset_train['NU_NOTA_MT'])"
   ]
  },
  {
   "cell_type": "code",
   "execution_count": 11,
   "metadata": {},
   "outputs": [],
   "source": [
    "x_test = df_test[features].fillna(0)\n",
    "pred = reg.predict(x_test)"
   ]
  },
  {
   "cell_type": "code",
   "execution_count": 12,
   "metadata": {
    "scrolled": false
   },
   "outputs": [
    {
     "data": {
      "image/png": "[encoded data removed]",
      "text/plain": [
       "<Figure size 432x288 with 1 Axes>"
      ]
     },
     "metadata": {
      "needs_background": "light"
     },
     "output_type": "display_data"
    }
   ],
   "source": [
    "sns.kdeplot(pred, shade=True, color='r', label='PREDICTED GRADES')\n",
    "sns.kdeplot(subset_train['NU_NOTA_MT'], shade=True, color='g', label='REAL GRADES') \n",
    "plt.show()"
   ]
  },
  {
   "cell_type": "markdown",
   "metadata": {},
   "source": [
    "#### Last adjustments"
   ]
  },
  {
   "cell_type": "code",
   "execution_count": 13,
   "metadata": {},
   "outputs": [],
   "source": [
    "notas = pd.DataFrame()\n",
    "notas['NU_NOTA_MT'] = np.around(pred, 2)"
   ]
  },
  {
   "cell_type": "code",
   "execution_count": 14,
   "metadata": {},
   "outputs": [],
   "source": [
    "#Replace negatives values with NaN\n",
    "notas = notas.assign(NU_NOTA_MT = lambda x: x.where(x.ge(0))) "
   ]
  },
  {
   "cell_type": "code",
   "execution_count": 15,
   "metadata": {},
   "outputs": [
    {
     "data": {
      "image/png": "[encoded data removed]",
      "text/plain": [
       "<Figure size 720x360 with 2 Axes>"
      ]
     },
     "metadata": {
      "needs_background": "light"
     },
     "output_type": "display_data"
    }
   ],
   "source": [
    "fig, axes = plt.subplots(1, 2, figsize=(10,5))\n",
    "sns.kdeplot(notas['NU_NOTA_MT'], shade=True, color='r', ax=axes[0])\n",
    "sns.kdeplot(subset_train['NU_NOTA_MT'], shade=True, color='g', ax=axes[1])\n",
    "axes[0].set_title('DISTRIBUTION OF PREDICTED GRADES') \n",
    "axes[1].set_title('DISTRIBUTION OF REAL GRADES') \n",
    "plt.show()"
   ]
  },
  {
   "cell_type": "markdown",
   "metadata": {},
   "source": [
    "#### Generating answer.csv"
   ]
  },
  {
   "cell_type": "code",
   "execution_count": 16,
   "metadata": {},
   "outputs": [],
   "source": [
    "resposta = pd.DataFrame()\n",
    "resposta['NU_INSCRICAO']=df_test['NU_INSCRICAO']\n",
    "resposta['NU_NOTA_MT']=notas['NU_NOTA_MT']"
   ]
  },
  {
   "cell_type": "code",
   "execution_count": 17,
   "metadata": {},
   "outputs": [
    {
     "data": {
      "text/html": [
       "<div>\n",
       "<style scoped>\n",
       "    .dataframe tbody tr th:only-of-type {\n",
       "        vertical-align: middle;\n",
       "    }\n",
       "\n",
       "    .dataframe tbody tr th {\n",
       "        vertical-align: top;\n",
       "    }\n",
       "\n",
       "    .dataframe thead th {\n",
       "        text-align: right;\n",
       "    }\n",
       "</style>\n",
       "<table border=\"1\" class=\"dataframe\">\n",
       "  <thead>\n",
       "    <tr style=\"text-align: right;\">\n",
       "      <th></th>\n",
       "      <th>NU_INSCRICAO</th>\n",
       "      <th>NU_NOTA_MT</th>\n",
       "    </tr>\n",
       "  </thead>\n",
       "  <tbody>\n",
       "    <tr>\n",
       "      <td>0</td>\n",
       "      <td>73ff9fcc02f0a99919906c942c2e1a1042cdcf98</td>\n",
       "      <td>435.47</td>\n",
       "    </tr>\n",
       "    <tr>\n",
       "      <td>1</td>\n",
       "      <td>71a95f9f1b91a82c65ad94abbdf9f54e6066f968</td>\n",
       "      <td>435.01</td>\n",
       "    </tr>\n",
       "    <tr>\n",
       "      <td>2</td>\n",
       "      <td>b38a03232f43b11c9d0788abaf060f7366053b6d</td>\n",
       "      <td>588.34</td>\n",
       "    </tr>\n",
       "    <tr>\n",
       "      <td>3</td>\n",
       "      <td>70b682d9a3636be23f6120fa9d6b164eb3c6002d</td>\n",
       "      <td>NaN</td>\n",
       "    </tr>\n",
       "    <tr>\n",
       "      <td>4</td>\n",
       "      <td>715494628a50142ce8cb17191cfe6d0f3cae0934</td>\n",
       "      <td>546.33</td>\n",
       "    </tr>\n",
       "    <tr>\n",
       "      <td>...</td>\n",
       "      <td>...</td>\n",
       "      <td>...</td>\n",
       "    </tr>\n",
       "    <tr>\n",
       "      <td>4571</td>\n",
       "      <td>dac0f22429c7f8e3931d0abaf5dfc8e5c772a48b</td>\n",
       "      <td>449.24</td>\n",
       "    </tr>\n",
       "    <tr>\n",
       "      <td>4572</td>\n",
       "      <td>a75fa8770257e7c9368d059fe53d9ef431f4bdef</td>\n",
       "      <td>462.08</td>\n",
       "    </tr>\n",
       "    <tr>\n",
       "      <td>4573</td>\n",
       "      <td>655fa6306720ff16e825903b5422a46608a77545</td>\n",
       "      <td>617.90</td>\n",
       "    </tr>\n",
       "    <tr>\n",
       "      <td>4574</td>\n",
       "      <td>1f4bc3e3d56212d500625bfe8ac78ccff4362293</td>\n",
       "      <td>445.82</td>\n",
       "    </tr>\n",
       "    <tr>\n",
       "      <td>4575</td>\n",
       "      <td>adf0d15b54317b6564ef56dad2b775bbb0ef50cc</td>\n",
       "      <td>NaN</td>\n",
       "    </tr>\n",
       "  </tbody>\n",
       "</table>\n",
       "<p>4576 rows × 2 columns</p>\n",
       "</div>"
      ],
      "text/plain": [
       "                                  NU_INSCRICAO  NU_NOTA_MT\n",
       "0     73ff9fcc02f0a99919906c942c2e1a1042cdcf98      435.47\n",
       "1     71a95f9f1b91a82c65ad94abbdf9f54e6066f968      435.01\n",
       "2     b38a03232f43b11c9d0788abaf060f7366053b6d      588.34\n",
       "3     70b682d9a3636be23f6120fa9d6b164eb3c6002d         NaN\n",
       "4     715494628a50142ce8cb17191cfe6d0f3cae0934      546.33\n",
       "...                                        ...         ...\n",
       "4571  dac0f22429c7f8e3931d0abaf5dfc8e5c772a48b      449.24\n",
       "4572  a75fa8770257e7c9368d059fe53d9ef431f4bdef      462.08\n",
       "4573  655fa6306720ff16e825903b5422a46608a77545      617.90\n",
       "4574  1f4bc3e3d56212d500625bfe8ac78ccff4362293      445.82\n",
       "4575  adf0d15b54317b6564ef56dad2b775bbb0ef50cc         NaN\n",
       "\n",
       "[4576 rows x 2 columns]"
      ]
     },
     "execution_count": 17,
     "metadata": {},
     "output_type": "execute_result"
    }
   ],
   "source": [
    "resposta"
   ]
  },
  {
   "cell_type": "code",
   "execution_count": 18,
   "metadata": {},
   "outputs": [],
   "source": [
    "resposta.to_csv('answer.csv', index=False, header=True)"
   ]
  }
 ],
 "metadata": {
  "kernelspec": {
   "display_name": "Python 3",
   "language": "python",
   "name": "python3"
  },
  "language_info": {
   "codemirror_mode": {
    "name": "ipython",
    "version": 3
   },
   "file_extension": ".py",
   "mimetype": "text/x-python",
   "name": "python",
   "nbconvert_exporter": "python",
   "pygments_lexer": "ipython3",
   "version": "3.7.4"
  }
 },
 "nbformat": 4,
 "nbformat_minor": 2
}
